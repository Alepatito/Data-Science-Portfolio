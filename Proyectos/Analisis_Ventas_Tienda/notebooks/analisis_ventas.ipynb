# Paso 1: Importar librerías
import pandas as pd
import numpy as np
import matplotlib.pyplot as plt
import seaborn as sns

# Configuración de estilo para gráficos
sns.set(style="whitegrid")
plt.rcParams["figure.figsize"] = (10, 6)

# Paso 2: Cargar los datos
ruta_datos = "../datos/datos_ventas_tienda_ficticia.csv"
df = pd.read_csv(ruta_datos)

# Paso 3: Vista previa de los datos
print("Primeras filas del dataset:")
display(df.head())

# Paso 4: Información del dataset
print("\nInformación del dataset:")
df.info()

# Paso 5: Descripción estadística
print("\nDescripción estadística del dataset:")
display(df.describe())

# Paso 6: Verificación de valores faltantes
print("\nValores faltantes por columna:")
print(df.isnull().sum())

